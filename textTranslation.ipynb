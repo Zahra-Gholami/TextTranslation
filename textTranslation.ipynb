{
  "nbformat": 4,
  "nbformat_minor": 0,
  "metadata": {
    "colab": {
      "provenance": [],
      "gpuType": "T4",
      "authorship_tag": "ABX9TyPAvSuWsX/xZbi6Razuj/+g",
      "include_colab_link": true
    },
    "kernelspec": {
      "name": "python3",
      "display_name": "Python 3"
    },
    "language_info": {
      "name": "python"
    },
    "accelerator": "GPU"
  },
  "cells": [
    {
      "cell_type": "markdown",
      "metadata": {
        "id": "view-in-github",
        "colab_type": "text"
      },
      "source": [
        "<a href=\"https://colab.research.google.com/github/Zahra-Gholami/TextTranslation/blob/main/textTranslation.ipynb\" target=\"_parent\"><img src=\"https://colab.research.google.com/assets/colab-badge.svg\" alt=\"Open In Colab\"/></a>"
      ]
    },
    {
      "cell_type": "code",
      "source": [
        "from transformers import MBartForConditionalGeneration, MBart50TokenizerFast\n"
      ],
      "metadata": {
        "id": "CA6U6CphnzZG"
      },
      "execution_count": 11,
      "outputs": []
    },
    {
      "cell_type": "code",
      "source": [
        "model_name = \"facebook/mbart-large-50-many-to-many-mmt\"\n",
        "tokenizer = MBart50TokenizerFast.from_pretrained(model_name)\n",
        "model = MBartForConditionalGeneration.from_pretrained(model_name)"
      ],
      "metadata": {
        "id": "m4rUOvaCoJLu"
      },
      "execution_count": 12,
      "outputs": []
    },
    {
      "cell_type": "code",
      "source": [
        "def translate_text(text, src_lang=\"en_XX\", tgt_lang=\"fa_IR\"):\n",
        "    # تنظیم زبان مبدأ و مقصد\n",
        "    tokenizer.src_lang = src_lang\n",
        "    encoded_text = tokenizer(text, return_tensors=\"pt\", padding=True, truncation=True)\n",
        "\n",
        "    # تولید ترجمه\n",
        "    generated_tokens = model.generate(**encoded_text, forced_bos_token_id=tokenizer.lang_code_to_id[tgt_lang])\n",
        "\n",
        "    # دی‌کد کردن خروجی\n",
        "    translated_text = tokenizer.batch_decode(generated_tokens, skip_special_tokens=True)[0]\n",
        "    return translated_text"
      ],
      "metadata": {
        "id": "63wJz-ZqqekA"
      },
      "execution_count": 13,
      "outputs": []
    },
    {
      "cell_type": "code",
      "source": [
        "text = \"\"\"Once upon a time, there lived a lazy man who wanted to get everything easily. One day he came across a crippled fox and wondered how he survived. To the man’s surprise, a lion left a piece of meat for the fox. This triggered an idea in the man’s mind, “The superpower takes care of all our needs”.\n",
        "\n",
        "This lazy man decided to wait for some help from the superpower to feed him too. But nothing came his way. The next day, the man was starving And suddenly, he saw a sage passing by. The man asked the sage, “If there is a superpower that can feed a crippled animal, why can’t it feed me?”. The sage was wise and replied,\n",
        "\n",
        "“The superpower does govern the world. But he wants you to be like the lion and not the fox!”.\"\"\"\n",
        "translated_text = translate_text(text)\n"
      ],
      "metadata": {
        "id": "L2GmtmMau7No"
      },
      "execution_count": 17,
      "outputs": []
    },
    {
      "cell_type": "code",
      "source": [
        "print(translated_text)"
      ],
      "metadata": {
        "colab": {
          "base_uri": "https://localhost:8080/"
        },
        "id": "7FJBfcd4vFz2",
        "outputId": "147f37dd-dc3e-429c-c63a-0ff4d33313e5"
      },
      "execution_count": 18,
      "outputs": [
        {
          "output_type": "stream",
          "name": "stdout",
          "text": [
            "روزی روزگاری ، یک مرد بی حوصله زندگی می کرد که می خواست همه چیز را به سادگی بدست بیاورد. یک روز او یک fox فلج را دید و تعجب کرد که چگونه زنده مانده است. به شگفتی مرد ، یک شیر یک تکه گوشت برای fox باقی گذاشت. این ایده ای را در ذهن مرد به وجود آورد ، « ابرقدرت از همه نیازهای ما مراقبت می کند. » این مرد بی حوصله تصمیم گرفت منتظر کمکی از ابرقدرت باشد تا او را تغذیه کند. اما هیچ چیز به راهش نیامد. روز بعد ، مرد گرسنه بود و ناگهان ، یک Weise را دید که از کنارش می گذشت. مرد از Weise پرسید ، « اگر ابرقدرت باشد که می تواند یک حیوان فلج را تغذیه کند ، چرا آن نمی تواند مرا تغذیه کند ؟ ». Weise خردمند بود و پاسخ داد ، « ابرقدرت جهان را اداره می کند. اما او می خواهد شما مثل شیر باشید و نه\n"
          ]
        }
      ]
    }
  ]
}